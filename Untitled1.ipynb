{
 "cells": [
  {
   "cell_type": "code",
   "execution_count": 3,
   "id": "e0f9d12e-0a48-45fa-9235-38bcff9523ac",
   "metadata": {},
   "outputs": [],
   "source": [
    "import pandas as pd\n",
    "\n",
    "# Load data\n",
    "df = pd.read_csv(\"greenhouse_gas.csv\")\n",
    "\n",
    "# Drop unnamed column if present\n",
    "df = df.loc[:, ~df.columns.str.contains(\"^Unnamed\")]\n",
    "\n",
    "# Handle missing values (if any)\n",
    "df = df.dropna()\n",
    "\n",
    "# Encode categorical columns\n",
    "df_encoded = pd.get_dummies(df, columns=[\"Industry Name\", \"Substance\"], drop_first=True)\n",
    "\n",
    "# Features & Target\n",
    "features = df_encoded.drop(\"Supply Chain Emission Factors with Margins\", axis=1)\n",
    "target = df_encoded[\"Supply Chain Emission Factors with Margins\"]\n"
   ]
  },
  {
   "cell_type": "code",
   "execution_count": 5,
   "id": "fdfd4b0e-d3e6-4d05-aaa0-40d383eda48f",
   "metadata": {},
   "outputs": [
    {
     "name": "stdout",
     "output_type": "stream",
     "text": [
      "R² score: 0.30212269647239076\n",
      "MSE: 0.015234219803773577\n"
     ]
    }
   ],
   "source": [
    "import pandas as pd\n",
    "from sklearn.model_selection import train_test_split\n",
    "from sklearn.ensemble import RandomForestRegressor\n",
    "from sklearn.compose import ColumnTransformer\n",
    "from sklearn.preprocessing import OneHotEncoder\n",
    "from sklearn.pipeline import Pipeline\n",
    "\n",
    "# Load the data\n",
    "df = pd.read_csv(\"C:/Users/84T g4/anaconda_projects/greenhouse_gas.csv\")\n",
    "\n",
    "# Drop unnamed columns\n",
    "df = df.loc[:, ~df.columns.str.contains(\"^Unnamed\")]\n",
    "\n",
    "# Drop rows with missing target\n",
    "df = df.dropna(subset=[\"Supply Chain Emission Factors with Margins\"])\n",
    "\n",
    "# Define features and target\n",
    "X = df[[\"Industry Code\", \"Industry Name\", \"Substance\"]]\n",
    "y = df[\"Supply Chain Emission Factors with Margins\"]\n",
    "\n",
    "# Split the data\n",
    "X_train, X_test, y_train, y_test = train_test_split(X, y, test_size=0.2, random_state=42)\n",
    "\n",
    "# Create pipeline\n",
    "pipeline = Pipeline(steps=[\n",
    "    (\"preprocessor\", ColumnTransformer(transformers=[\n",
    "        (\"cat\", OneHotEncoder(handle_unknown='ignore'), [\"Industry Code\", \"Industry Name\", \"Substance\"])\n",
    "    ])),\n",
    "    (\"model\", RandomForestRegressor(n_estimators=100, random_state=42))\n",
    "])\n",
    "\n",
    "# Train\n",
    "pipeline.fit(X_train, y_train)\n",
    "\n",
    "# Predict\n",
    "preds = pipeline.predict(X_test)\n",
    "\n",
    "# Evaluate\n",
    "from sklearn.metrics import r2_score, mean_squared_error\n",
    "print(\"R² score:\", r2_score(y_test, preds))\n",
    "print(\"MSE:\", mean_squared_error(y_test, preds))\n",
    "\n",
    "\n",
    "\n"
   ]
  },
  {
   "cell_type": "code",
   "execution_count": 6,
   "id": "f955d233-972a-4e72-ace5-081d2c8e52f1",
   "metadata": {},
   "outputs": [
    {
     "data": {
      "text/plain": [
       "['greenhouse_model.pkl']"
      ]
     },
     "execution_count": 6,
     "metadata": {},
     "output_type": "execute_result"
    }
   ],
   "source": [
    "import joblib\n",
    "\n",
    "# Save the trained model and the feature transformer\n",
    "joblib.dump(pipeline, \"greenhouse_model.pkl\")\n"
   ]
  },
  {
   "cell_type": "code",
   "execution_count": 7,
   "id": "af3fabe4-727b-4810-8979-7b2cdef99714",
   "metadata": {},
   "outputs": [
    {
     "data": {
      "text/plain": [
       "['greenhouse_model.pkl']"
      ]
     },
     "execution_count": 7,
     "metadata": {},
     "output_type": "execute_result"
    }
   ],
   "source": [
    "import joblib\n",
    "joblib.dump(pipeline, \"greenhouse_model.pkl\")\n"
   ]
  },
  {
   "cell_type": "code",
   "execution_count": null,
   "id": "2b5f8fae-2a92-45e8-aabe-e59148fd0a02",
   "metadata": {},
   "outputs": [],
   "source": []
  }
 ],
 "metadata": {
  "kernelspec": {
   "display_name": "Python [conda env:base] *",
   "language": "python",
   "name": "conda-base-py"
  },
  "language_info": {
   "codemirror_mode": {
    "name": "ipython",
    "version": 3
   },
   "file_extension": ".py",
   "mimetype": "text/x-python",
   "name": "python",
   "nbconvert_exporter": "python",
   "pygments_lexer": "ipython3",
   "version": "3.13.5"
  }
 },
 "nbformat": 4,
 "nbformat_minor": 5
}
